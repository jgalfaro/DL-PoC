{
 "cells": [
  {
   "cell_type": "markdown",
   "metadata": {},
   "source": [
    "# Supplementary Material to:\n",
    "# Blueprint for Next Generation Cyber-Physical Resilience using Defense Quantum Machine - Learning Two-train Example\n",
    "# Authors\n",
    "\n",
    "Michel Barbeau\n",
    "\n",
    "Joaquin Garcia-Alfaro\n",
    "\n",
    "Version: September 12, 2021\n",
    "\n",
    "We reused code from: \n",
    "<a href=\"https://pennylane.ai/qml/demos/tutorial_qubit_rotation.html\">Basic tutorial: qubit rotation</a>\n",
    "   \n",
    "Note: This example runs of version 0.8.0 of Pennylane, which is not the *defaul latest version*. To force installation of that version, in a Linux shell enter:\n",
    "\n",
    "python -m pip install pennylane==0.8.0"
   ]
  },
  {
   "cell_type": "markdown",
   "metadata": {},
   "source": [
    "## Two-train scenario\n",
    "\n",
    "Let us consider the following discrete two-train scenario:\n",
    "\n",
    "   ![track](two_train.png)\n",
    "\n",
    "Tracks are broken into sections.\n",
    "Let us assume a scenario where Train 1 is the agent and Train 2 is part of its world.\n",
    "There is an outer loop visiting points 3, 4 and 5,\n",
    "together with a bypass from point 2, visiting point 8 to point 6.\n",
    "Traversal time is uniform across sections.\n",
    "The normal trajectory of Train 1 is the outer loop,\n",
    "while maintaining a Train 2-Train 1 distance greater than one empty section.\n",
    "For example, if Train 1 is at point 0 while\n",
    "Train 2 is at point 7, then\n",
    "the separation distance constraint is violated.\n",
    "The goal of the adversary is to steer the system in a state where the separation distance constraint is violated.\n",
    "When a train crosses point 0,\n",
    "it has to make a choice: either traverse the outer loop or take the bypass.\n",
    "Both trains can follow any path and make independent choices, \n",
    "when they are at point 0.\n",
    "\n",
    "In the terms of reinforcement learning,\n",
    "Train 1 has two actions available: take loop and take bypass.\n",
    "The agent gets $k$ reward points for a relative Train 2-Train 1 distance increase of $k$ sections with Train 2.\n",
    "It gets $-k$ reward points, i.e., a penalty, \n",
    "for a relative Train 2-Train 1 distance decrease of $k$ sections with Train 2.\n",
    "For example, let us assume that Train 1 is at point 0 and that Train 2 is at point 7.\n",
    "If both trains, progressing a the same speed, take the loop or both  decide to take the bypass,\n",
    "then there is no relative distance change.\n",
    "The agent gets no reward.\n",
    "When Train 1 decides to take the bypass and Train 2 decides to take the loop,\n",
    "the agent gets two reward points,\n",
    "at return to point zero (Train 2 is at point five).\n",
    "When Train 1 decides to take the loop and Train 2 decides to take the bypass,\n",
    "the agent gets four reward points,\n",
    "at return to point zero (Train 2 is at point one, Train 2-Train 1 distance is five sections).\n",
    "\n",
    "The representation of the environment is as follows: \n",
    "\n",
    "   ![track](MDP_two_trains.png)\n",
    "\n",
    "The state set is $S=\\{ 0, 1,2 \\}$.\n",
    "The action set is $A=\\{ a_0=\\mbox{take loop},  a_1=\\mbox{take bypass} \\}$\n",
    "The transition probability function is defined as $P_{a_0}(0,0)=p$,   $P_{a_0}(0,1)=1-p$, $P_{a_1}(0,0)=q$ and $P_{a_1}(0,2)=1-q$.\n",
    "The reward functions is defined as $R_{a_0}(0,0)=0$, $R_{a_0}(0,1)=4$, $R_{a_1}(0,0)=0$ and $R_{a_1}(0,2)=2$.\n",
    "This is interpreted as follows.\n",
    "In the initial state $0$ with a one-section separation distance,\n",
    "the agent selects an action to perform: take loop or take bypass.\n",
    "Train 1 performs the selected action.\n",
    "When selecting take loop,\n",
    "with probability $p$ the environment goes back to state $0$ (no reward) or with probability $1-p$ it moves to state $1$,\n",
    "with a five-section separation distance (reward is four).\n",
    "When selecting take bypass,\n",
    "with probability $q$ the environment goes back to state $0$ (no reward) or with probability $1-q$ it moves state $2$,\n",
    "with a three-section separation distance (reward is two).\n",
    "The agent memorizes how good it has been to perform a selected action.\n",
    "\n",
    "In the sequel, the environment probabilities of zero reward $p$ and $q$ are assumed to be the same. "
   ]
  },
  {
   "cell_type": "markdown",
   "metadata": {},
   "source": [
    "##  PennyLan environment import"
   ]
  },
  {
   "cell_type": "code",
   "execution_count": 2,
   "metadata": {},
   "outputs": [],
   "source": [
    "import pennylane as qml\n",
    "from pennylane import numpy as np\n",
    "import matplotlib.pyplot as plt"
   ]
  },
  {
   "cell_type": "markdown",
   "metadata": {},
   "source": [
    "## Device creation"
   ]
  },
  {
   "cell_type": "code",
   "execution_count": 3,
   "metadata": {},
   "outputs": [],
   "source": [
    "dev1 = qml.device(\"default.qubit\", wires=1, shots=1)"
   ]
  },
  {
   "cell_type": "markdown",
   "metadata": {},
   "source": [
    "## Quantum node construction\n",
    "\n",
    "A variational circuit `W(theta)` is trained, with parameter `theta`. The circuit consists of two gates: an $X$ gate and an $Y$ gate. In this example, there is only state $S_0$. It is represented by the quantum state $\\vert 0 \\rangle$. Because it is a ground state, the state is not coded explicitly at the input of the circuit. Parameter `theta` is an array of two rotation angles, one for every gate."
   ]
  },
  {
   "cell_type": "code",
   "execution_count": 4,
   "metadata": {},
   "outputs": [],
   "source": [
    "@qml.qnode(dev1)\n",
    "def W(theta):\n",
    "    qml.RX(theta[0], wires=0)\n",
    "    qml.RY(theta[1], wires=0)\n",
    "    # return probabilities of computational basis states\n",
    "    return qml.probs(wires=[0])"
   ]
  },
  {
   "cell_type": "markdown",
   "metadata": {},
   "source": [
    "## Cost model\n",
    "\n",
    "The actions take loop and take bypass are respectively represented by the quantum states $\\vert 0 \\rangle$ and $\\vert 1 \\rangle$. The variational circuit is trained on the probability of each computational basis state: $\\vert 0 \\rangle$ and $\\vert 1 \\rangle$.\n",
    "\n",
    "The `cost` function measures the difference between the probablities associated to the variational circuit `W(theta)` and the target probabilities of the quantum states $\\vert 0 \\rangle$ and $\\vert 1 \\rangle$."
   ]
  },
  {
   "cell_type": "code",
   "execution_count": 5,
   "metadata": {},
   "outputs": [],
   "source": [
    "def square_loss(X, Y):\n",
    "    loss = 0\n",
    "    for x, y in zip(X, Y):\n",
    "        loss = loss + (x - y) ** 2\n",
    "    return loss / len(X)\n",
    "\n",
    "def cost(theta, p):\n",
    "    #  p is prob. of ket zero, 1-p is prob of ket 1\n",
    "    return square_loss(W(theta), [p, 1-p])"
   ]
  },
  {
   "cell_type": "markdown",
   "metadata": {},
   "source": [
    "##  Quantum circuit update\n",
    "\n",
    "Using optimization, the following code finds the `theta` such that the variational circuit `W(theta)` outputs a quantum state where the probabilities $\\vert 0 \\rangle$ and $\\vert 1 \\rangle$ are respectively $p$ and $1-p$."
   ]
  },
  {
   "cell_type": "code",
   "execution_count": 6,
   "metadata": {},
   "outputs": [
    {
     "name": "stdout",
     "output_type": "stream",
     "text": [
      "Initial probs. of basis states: [0.61432696 0.38567304]\n"
     ]
    }
   ],
   "source": [
    "# initialise the optimizer\n",
    "opt = qml.GradientDescentOptimizer(stepsize=0.4)\n",
    "# set the number of steps\n",
    "steps = 10\n",
    "# set the initial theta value of variational circuit state\n",
    "theta = np.random.randn(2)\n",
    "print(\"Initial probs. of basis states: {}\".format(W(theta)))\n",
    "\n",
    "def update(theta, p):\n",
    "    # p = probability\n",
    "    for i in range(steps):\n",
    "        # update the circuit parameters\n",
    "        theta = opt.step(lambda v: cost(v, p), theta)\n",
    "        #if (i + 1) % 10 == 0:\n",
    "            #print(\"Cost @ step {:5d}: {: .7f}\".format(i, cost(theta,p)))\n",
    "    #print(\"Probs. of basis states: {}\".format(W(theta)))\n",
    "    return theta"
   ]
  },
  {
   "cell_type": "markdown",
   "metadata": {},
   "source": [
    "## Reinforcement learning process\n",
    "\n",
    "Q Learning Reinforcement Learning is used. \n",
    "\n",
    "Probabilities of quantum states $\\vert 0 \\rangle$ and $\\vert 1 \\rangle$ is proportional to the respective rewards `Q[0]/(Q[0]+Q[1])` and `1 - Q[0]/(Q[0]+Q[1])`."
   ]
  },
  {
   "cell_type": "code",
   "execution_count": 45,
   "metadata": {},
   "outputs": [
    {
     "name": "stdout",
     "output_type": "stream",
     "text": [
      "i:  0  num:  0.7660289091569452  action:  1  reward:  2  Q-values:  [0, 0.02]\n",
      "i:  1  num:  0.6615408941707992  action:  0  reward:  4  Q-values:  [0.04, 0.02]\n",
      "i:  2  num:  0.2466746113257663  action:  1  reward:  2  Q-values:  [0.04, 0.04]\n",
      "i:  3  num:  0.7363505370675982  action:  0  reward:  4  Q-values:  [0.08, 0.04]\n",
      "i:  4  num:  0.6986184730653854  action:  1  reward:  2  Q-values:  [0.08, 0.060000000000000005]\n",
      "i:  5  num:  0.6909053769921761  action:  1  reward:  2  Q-values:  [0.08, 0.08]\n",
      "i:  6  num:  0.07019156256758963  action:  1  reward:  2  Q-values:  [0.08, 0.1]\n",
      "i:  7  num:  0.752087680104352  action:  0  reward:  4  Q-values:  [0.12000000000000001, 0.1]\n",
      "i:  8  num:  0.4535136016360577  action:  1  reward:  2  Q-values:  [0.12000000000000001, 0.12000000000000001]\n",
      "i:  9  num:  0.1776527591072955  action:  0  reward:  4  Q-values:  [0.16, 0.12000000000000001]\n",
      "i:  10  num:  0.07769326466333237  action:  1  reward:  2  Q-values:  [0.16, 0.14]\n",
      "i:  11  num:  0.11089427642296668  action:  1  reward:  2  Q-values:  [0.16, 0.16]\n",
      "i:  12  num:  0.9681559764460075  action:  0  reward:  4  Q-values:  [0.2, 0.16]\n",
      "i:  13  num:  0.1940035265691964  action:  0  reward:  4  Q-values:  [0.24000000000000002, 0.16]\n",
      "i:  14  num:  0.881540467506921  action:  0  reward:  4  Q-values:  [0.28, 0.16]\n",
      "i:  15  num:  0.19500779011928748  action:  0  reward:  4  Q-values:  [0.32, 0.16]\n",
      "i:  16  num:  0.7229852114745271  action:  0  reward:  4  Q-values:  [0.36000000000000004, 0.16]\n",
      "i:  17  num:  0.5250627871445339  action:  0  reward:  4  Q-values:  [0.4000000000000001, 0.16]\n",
      "i:  18  num:  0.7695918002398373  action:  1  reward:  2  Q-values:  [0.4000000000000001, 0.18000000000000002]\n",
      "i:  19  num:  0.7795873838121119  action:  0  reward:  4  Q-values:  [0.44000000000000006, 0.18000000000000002]\n",
      "i:  20  num:  0.9953744482751442  action:  1  reward:  2  Q-values:  [0.44000000000000006, 0.20000000000000004]\n",
      "i:  21  num:  0.7395567172871411  action:  0  reward:  4  Q-values:  [0.48000000000000004, 0.20000000000000004]\n",
      "i:  22  num:  0.9032454349134023  action:  1  reward:  2  Q-values:  [0.48000000000000004, 0.22000000000000003]\n",
      "i:  23  num:  0.44527439084969633  action:  0  reward:  4  Q-values:  [0.52, 0.22000000000000003]\n",
      "i:  24  num:  0.24578654025092617  action:  1  reward:  2  Q-values:  [0.52, 0.24000000000000002]\n",
      "i:  25  num:  0.5687397358360422  action:  1  reward:  2  Q-values:  [0.52, 0.26]\n",
      "i:  26  num:  0.11863508330902517  action:  1  reward:  2  Q-values:  [0.52, 0.28]\n",
      "i:  27  num:  0.4942915355813542  action:  0  reward:  4  Q-values:  [0.56, 0.28]\n",
      "i:  28  num:  0.880540094925226  action:  0  reward:  4  Q-values:  [0.6, 0.28]\n",
      "i:  29  num:  0.49483148397180265  action:  0  reward:  4  Q-values:  [0.64, 0.28]\n",
      "i:  30  num:  0.7947119478394646  action:  0  reward:  4  Q-values:  [0.68, 0.28]\n",
      "i:  31  num:  0.7199012608846255  action:  1  reward:  2  Q-values:  [0.68, 0.3]\n",
      "i:  32  num:  0.9188622970277083  action:  1  reward:  2  Q-values:  [0.68, 0.32]\n",
      "i:  33  num:  0.7448745137387217  action:  1  reward:  2  Q-values:  [0.68, 0.34]\n",
      "i:  34  num:  0.5100084527755381  action:  0  reward:  4  Q-values:  [0.72, 0.34]\n",
      "i:  35  num:  0.8896099904852536  action:  0  reward:  4  Q-values:  [0.76, 0.34]\n",
      "i:  36  num:  0.3488007465251235  action:  1  reward:  2  Q-values:  [0.76, 0.36]\n",
      "i:  37  num:  0.9957460062669848  action:  1  reward:  2  Q-values:  [0.76, 0.38]\n",
      "i:  38  num:  0.16834889087575922  action:  1  reward:  2  Q-values:  [0.76, 0.39999999999999997]\n",
      "i:  39  num:  0.5617223863024151  action:  1  reward:  2  Q-values:  [0.76, 0.42]\n",
      "i:  40  num:  0.8183434641496578  action:  1  reward:  2  Q-values:  [0.76, 0.44]\n",
      "i:  41  num:  0.6091995224201235  action:  1  reward:  2  Q-values:  [0.76, 0.45999999999999996]\n",
      "i:  42  num:  0.04571468536432277  action:  1  reward:  2  Q-values:  [0.76, 0.48]\n",
      "i:  43  num:  0.8139599985937443  action:  1  reward:  2  Q-values:  [0.76, 0.49999999999999994]\n",
      "i:  44  num:  0.403117445627298  action:  1  reward:  2  Q-values:  [0.76, 0.5199999999999999]\n",
      "i:  45  num:  0.852164256524478  action:  1  reward:  2  Q-values:  [0.76, 0.5399999999999999]\n",
      "i:  46  num:  0.37216436017098775  action:  1  reward:  2  Q-values:  [0.76, 0.5599999999999999]\n",
      "i:  47  num:  0.2104095622191543  action:  1  reward:  2  Q-values:  [0.76, 0.5799999999999998]\n",
      "i:  48  num:  0.41908827371443547  action:  0  reward:  4  Q-values:  [0.7999999999999999, 0.5799999999999998]\n",
      "i:  49  num:  0.029388194866140638  action:  1  reward:  2  Q-values:  [0.7999999999999999, 0.5999999999999999]\n",
      "i:  50  num:  0.22159132346055788  action:  1  reward:  2  Q-values:  [0.7999999999999999, 0.6199999999999999]\n",
      "i:  51  num:  0.4445236379928028  action:  1  reward:  2  Q-values:  [0.7999999999999999, 0.6399999999999999]\n",
      "i:  52  num:  0.2278233955250354  action:  0  reward:  4  Q-values:  [0.84, 0.6399999999999999]\n",
      "i:  53  num:  0.1866064442745763  action:  0  reward:  4  Q-values:  [0.88, 0.6399999999999999]\n",
      "i:  54  num:  0.2736289876736925  action:  1  reward:  2  Q-values:  [0.88, 0.6599999999999999]\n",
      "i:  55  num:  0.7429044583101132  action:  0  reward:  4  Q-values:  [0.9199999999999999, 0.6599999999999999]\n",
      "i:  56  num:  0.9374858365419503  action:  1  reward:  2  Q-values:  [0.9199999999999999, 0.6799999999999998]\n",
      "i:  57  num:  0.8246079172295852  action:  0  reward:  4  Q-values:  [0.96, 0.6799999999999998]\n",
      "i:  58  num:  0.8212569505321575  action:  0  reward:  4  Q-values:  [0.9999999999999999, 0.6799999999999998]\n",
      "i:  59  num:  0.8370799375318702  action:  0  reward:  4  Q-values:  [1.0399999999999998, 0.6799999999999998]\n",
      "i:  60  num:  0.6169843761587583  action:  0  reward:  4  Q-values:  [1.0799999999999998, 0.6799999999999998]\n",
      "i:  61  num:  0.17410023627042748  action:  0  reward:  4  Q-values:  [1.1199999999999999, 0.6799999999999998]\n",
      "i:  62  num:  0.7716887581237862  action:  0  reward:  4  Q-values:  [1.1599999999999997, 0.6799999999999998]\n",
      "i:  63  num:  0.7186881792035356  action:  0  reward:  4  Q-values:  [1.1999999999999997, 0.6799999999999998]\n",
      "i:  64  num:  0.887500345404199  action:  0  reward:  4  Q-values:  [1.2399999999999998, 0.6799999999999998]\n",
      "i:  65  num:  0.42927148096612333  action:  1  reward:  2  Q-values:  [1.2399999999999998, 0.6999999999999998]\n",
      "i:  66  num:  0.14020507708866525  action:  0  reward:  4  Q-values:  [1.2799999999999998, 0.6999999999999998]\n",
      "i:  67  num:  0.4325121698077027  action:  0  reward:  4  Q-values:  [1.3199999999999998, 0.6999999999999998]\n",
      "i:  68  num:  0.7538087066852512  action:  1  reward:  2  Q-values:  [1.3199999999999998, 0.7199999999999999]\n",
      "i:  69  num:  0.589872613751951  action:  0  reward:  4  Q-values:  [1.3599999999999997, 0.7199999999999999]\n",
      "i:  70  num:  0.6445719194229075  action:  0  reward:  4  Q-values:  [1.3999999999999997, 0.7199999999999999]\n",
      "i:  71  num:  0.5679141025712394  action:  1  reward:  2  Q-values:  [1.3999999999999997, 0.7399999999999999]\n",
      "i:  72  num:  0.6627272603128029  action:  1  reward:  2  Q-values:  [1.3999999999999997, 0.7599999999999999]\n",
      "i:  73  num:  0.7939280578360608  action:  1  reward:  2  Q-values:  [1.3999999999999997, 0.7799999999999998]\n",
      "i:  74  num:  0.18107263840813959  action:  1  reward:  2  Q-values:  [1.3999999999999997, 0.7999999999999998]\n",
      "i:  75  num:  0.5162590689802459  action:  0  reward:  4  Q-values:  [1.4399999999999997, 0.7999999999999998]\n",
      "i:  76  num:  0.026374640687109818  action:  0  reward:  4  Q-values:  [1.4799999999999998, 0.7999999999999998]\n",
      "i:  77  num:  0.9440466468697397  action:  0  reward:  4  Q-values:  [1.5199999999999998, 0.7999999999999998]\n",
      "i:  78  num:  0.818722287437148  action:  1  reward:  2  Q-values:  [1.5199999999999998, 0.8199999999999998]\n",
      "i:  79  num:  0.43565715349303613  action:  0  reward:  4  Q-values:  [1.5599999999999996, 0.8199999999999998]\n",
      "i:  80  num:  0.6451089628982771  action:  1  reward:  2  Q-values:  [1.5599999999999996, 0.8399999999999999]\n",
      "i:  81  num:  0.6572516100993825  action:  0  reward:  4  Q-values:  [1.5999999999999996, 0.8399999999999999]\n",
      "i:  82  num:  0.6894062662172371  action:  1  reward:  2  Q-values:  [1.5999999999999996, 0.8599999999999999]\n",
      "i:  83  num:  0.7531872295593329  action:  1  reward:  2  Q-values:  [1.5999999999999996, 0.8799999999999998]\n",
      "i:  84  num:  0.3841431531028364  action:  0  reward:  4  Q-values:  [1.6399999999999997, 0.8799999999999998]\n",
      "i:  85  num:  0.9323247679943677  action:  1  reward:  2  Q-values:  [1.6399999999999997, 0.8999999999999998]\n",
      "i:  86  num:  0.0025218752944096146  action:  0  reward:  4  Q-values:  [1.6799999999999997, 0.8999999999999998]\n"
     ]
    },
    {
     "name": "stdout",
     "output_type": "stream",
     "text": [
      "i:  87  num:  0.5603851251101524  action:  1  reward:  2  Q-values:  [1.6799999999999997, 0.9199999999999998]\n",
      "i:  88  num:  0.3248496219873651  action:  1  reward:  2  Q-values:  [1.6799999999999997, 0.9399999999999998]\n",
      "i:  89  num:  0.817077575711092  action:  0  reward:  4  Q-values:  [1.7199999999999998, 0.9399999999999998]\n",
      "i:  90  num:  0.7046655216661141  action:  0  reward:  4  Q-values:  [1.7599999999999996, 0.9399999999999998]\n",
      "i:  91  num:  0.8871347279805294  action:  0  reward:  4  Q-values:  [1.7999999999999996, 0.9399999999999998]\n",
      "i:  92  num:  0.17786709160141367  action:  1  reward:  2  Q-values:  [1.7999999999999996, 0.9599999999999999]\n",
      "i:  93  num:  0.44590224826086944  action:  0  reward:  4  Q-values:  [1.8399999999999996, 0.9599999999999999]\n",
      "i:  94  num:  0.9561646613113443  action:  0  reward:  4  Q-values:  [1.8799999999999997, 0.9599999999999999]\n",
      "i:  95  num:  0.5034665765062244  action:  1  reward:  2  Q-values:  [1.8799999999999997, 0.9799999999999998]\n",
      "i:  96  num:  0.6516404932383221  action:  1  reward:  2  Q-values:  [1.8799999999999997, 0.9999999999999998]\n",
      "i:  97  num:  0.6388376861693754  action:  1  reward:  2  Q-values:  [1.8799999999999997, 1.0199999999999998]\n",
      "i:  98  num:  0.6674322589786041  action:  0  reward:  4  Q-values:  [1.9199999999999997, 1.0199999999999998]\n",
      "i:  99  num:  0.5512214116511054  action:  0  reward:  4  Q-values:  [1.9599999999999995, 1.0199999999999998]\n"
     ]
    }
   ],
   "source": [
    "# init theta to random values\n",
    "theta = np.random.randn(2) \n",
    "# number of iterations\n",
    "epochs = 100\n",
    "# measurement results (probs. of ket zero and ket one)\n",
    "M = np.zeros(epochs)\n",
    "# environment probability\n",
    "p = 0.9 # adversary likely to do the same as agent\n",
    "p = 0.0 # adversary unlikely to do the same as agent\n",
    "# rewards\n",
    "R = [4, 2] \n",
    "# Q-value (total reward associated with actions)\n",
    "Q = [0, 0]\n",
    "# learning rate\n",
    "alpha = 0.01\n",
    "# main loop\n",
    "for i in range(epochs):\n",
    "    # agent has a random behavior, select random action\n",
    "    a = np.random.randint(2, size=1)[0]\n",
    "    # agent has a pattern behavior, most likely take the loop\n",
    "    #a = 0; \n",
    "    #num = np.random.random(1)[0]\n",
    "    #if num > 0.9:\n",
    "    #    r = 1;\n",
    "    # agent has a pattern behavior, most likely take the bypass\n",
    "    #a = 1; \n",
    "    #num = np.random.random(1)[0]\n",
    "    #if num > 0.9:\n",
    "    #    r = 0;    \n",
    "    # determine reward\n",
    "    num = np.random.random(1)[0]\n",
    "    r = 0\n",
    "    if num > p:\n",
    "        r = R[a]\n",
    "    # Bellman equation\n",
    "    Q[a] = (1-alpha)*Q[a] + alpha*(r + Q[a])\n",
    "    print(\"i: \", i,\" num: \", num,\" action: \", a, \" reward: \", r, \" Q-values: \", Q)\n",
    "    if (Q[0]+Q[1]) > 0:\n",
    "        theta = update(theta, Q[0]/(Q[0]+Q[1]))\n",
    "    M[i] = W(theta)[0]"
   ]
  },
  {
   "cell_type": "code",
   "execution_count": 46,
   "metadata": {},
   "outputs": [
    {
     "data": {
      "image/png": "[encoded data removed]",
      "text/plain": [
       "<Figure size 432x288 with 1 Axes>"
      ]
     },
     "metadata": {
      "needs_background": "light"
     },
     "output_type": "display_data"
    }
   ],
   "source": [
    "plt.plot(M, 'bs', label='take loop')\n",
    "plt.plot(1-M, 'g^', label='take bypass')\n",
    "plt.xlabel('Epoch')\n",
    "plt.ylabel('Probability')\n",
    "plt.grid(True)\n",
    "plt.legend()\n",
    "plt.show()"
   ]
  },
  {
   "cell_type": "code",
   "execution_count": null,
   "metadata": {},
   "outputs": [],
   "source": []
  }
 ],
 "metadata": {
  "kernelspec": {
   "display_name": "Python 3",
   "language": "python",
   "name": "python3"
  },
  "language_info": {
   "codemirror_mode": {
    "name": "ipython",
    "version": 3
   },
   "file_extension": ".py",
   "mimetype": "text/x-python",
   "name": "python",
   "nbconvert_exporter": "python",
   "pygments_lexer": "ipython3",
   "version": "3.7.3"
  }
 },
 "nbformat": 4,
 "nbformat_minor": 2
}
